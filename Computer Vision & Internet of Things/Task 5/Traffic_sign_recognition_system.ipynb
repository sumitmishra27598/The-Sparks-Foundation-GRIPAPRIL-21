{
  "nbformat": 4,
  "nbformat_minor": 0,
  "metadata": {
    "kernelspec": {
      "name": "python3",
      "display_name": "Python 3",
      "language": "python"
    },
    "language_info": {
      "name": "python",
      "version": "3.7.9",
      "mimetype": "text/x-python",
      "codemirror_mode": {
        "name": "ipython",
        "version": 3
      },
      "pygments_lexer": "ipython3",
      "nbconvert_exporter": "python",
      "file_extension": ".py"
    },
    "colab": {
      "name": "Traffic_sign_recognition_system.ipynb",
      "provenance": [],
      "collapsed_sections": []
    },
    "accelerator": "GPU"
  },
  "cells": [
    {
      "cell_type": "markdown",
      "metadata": {
        "id": "h9HOXTj8BxB6"
      },
      "source": [
        "# Data Science & Business Analytics Intern at The Sparks Foundation - GRIP APRIL'21 Batch\n",
        "### Author: Sumit Mishra"
      ]
    },
    {
      "cell_type": "markdown",
      "metadata": {
        "id": "YpJWNyjyBygK"
      },
      "source": [
        "##  TASK 5: Traffic sign Classification/Recognition system (Domain: Computer Vision & Internet of Things)\n",
        "\n",
        "### Implement a real time traffic sign classifier which identifies the traffic sign and gives an alert."
      ]
    },
    {
      "cell_type": "markdown",
      "metadata": {
        "id": "YEaPIJdbDaHL"
      },
      "source": [
        "### 1. Importing the required header files"
      ]
    },
    {
      "cell_type": "code",
      "metadata": {
        "trusted": true,
        "id": "TN0oeW9_2mWE"
      },
      "source": [
        "#importing the required pakages\n",
        "import numpy as np\n",
        "import pandas as pd\n",
        "import random\n",
        "import cv2\n",
        "import os\n",
        "\n",
        "import matplotlib.pyplot as plt\n",
        "from imutils import paths\n",
        "import imutils\n",
        "import warnings\n",
        "warnings.filterwarnings(\"ignore\")\n",
        "\n",
        "from tensorflow.keras.models import Sequential\n",
        "from tensorflow.keras.layers import BatchNormalization\n",
        "from tensorflow.keras.layers import Conv2D\n",
        "from tensorflow.keras.layers import MaxPooling2D\n",
        "from tensorflow.keras.layers import Activation\n",
        "from tensorflow.keras.layers import Flatten\n",
        "from tensorflow.keras.layers import Dropout\n",
        "from tensorflow.keras.layers import Dense\n",
        "from tensorflow.keras.preprocessing.image import ImageDataGenerator\n",
        "from tensorflow.keras.optimizers import Adam\n",
        "from tensorflow.keras.utils import to_categorical\n",
        "from sklearn.metrics import classification_report\n",
        "from tensorflow.keras.models import load_model\n",
        "from google.colab.patches import cv2_imshow\n",
        "from skimage import transform\n",
        "from skimage import exposure\n",
        "from skimage import io"
      ],
      "execution_count": null,
      "outputs": []
    },
    {
      "cell_type": "markdown",
      "metadata": {
        "id": "hvzEY5e-KsFn"
      },
      "source": [
        "### 2. Reading and preparing the data"
      ]
    },
    {
      "cell_type": "markdown",
      "metadata": {
        "id": "jBstt6F9eJmq"
      },
      "source": [
        "> Whole dataset can be found from below link.<br>\n",
        "https://www.kaggle.com/meowmeowmeowmeowmeow/gtsrb-german-traffic-sign/\n",
        "\n",
        "> About data<br>\n",
        "* The given dataset is German Traffic Sign Benchmark dataset which is a multi-class, single-image classification challenge held at the International Joint Conference on Neural Networks (IJCNN) 2011.\n",
        "* The data has more than 40 classes with more than 50,000 images in total."
      ]
    },
    {
      "cell_type": "code",
      "metadata": {
        "colab": {
          "base_uri": "https://localhost:8080/",
          "height": 221
        },
        "id": "bJwJ-sPrS6xC",
        "outputId": "f2f4ac80-bafa-468e-a058-53d327c9a1e2"
      },
      "source": [
        "#Reading Train.csv file\n",
        "\n",
        "train_df = pd.read_csv(\"Train.csv\")\n",
        "print(train_df.shape)\n",
        "train_df.head()"
      ],
      "execution_count": null,
      "outputs": [
        {
          "output_type": "stream",
          "text": [
            "(39209, 8)\n"
          ],
          "name": "stdout"
        },
        {
          "output_type": "execute_result",
          "data": {
            "text/html": [
              "<div>\n",
              "<style scoped>\n",
              "    .dataframe tbody tr th:only-of-type {\n",
              "        vertical-align: middle;\n",
              "    }\n",
              "\n",
              "    .dataframe tbody tr th {\n",
              "        vertical-align: top;\n",
              "    }\n",
              "\n",
              "    .dataframe thead th {\n",
              "        text-align: right;\n",
              "    }\n",
              "</style>\n",
              "<table border=\"1\" class=\"dataframe\">\n",
              "  <thead>\n",
              "    <tr style=\"text-align: right;\">\n",
              "      <th></th>\n",
              "      <th>Width</th>\n",
              "      <th>Height</th>\n",
              "      <th>Roi.X1</th>\n",
              "      <th>Roi.Y1</th>\n",
              "      <th>Roi.X2</th>\n",
              "      <th>Roi.Y2</th>\n",
              "      <th>ClassId</th>\n",
              "      <th>Path</th>\n",
              "    </tr>\n",
              "  </thead>\n",
              "  <tbody>\n",
              "    <tr>\n",
              "      <th>0</th>\n",
              "      <td>27</td>\n",
              "      <td>26</td>\n",
              "      <td>5</td>\n",
              "      <td>5</td>\n",
              "      <td>22</td>\n",
              "      <td>20</td>\n",
              "      <td>20</td>\n",
              "      <td>Train/20/00020_00000_00000.png</td>\n",
              "    </tr>\n",
              "    <tr>\n",
              "      <th>1</th>\n",
              "      <td>28</td>\n",
              "      <td>27</td>\n",
              "      <td>5</td>\n",
              "      <td>6</td>\n",
              "      <td>23</td>\n",
              "      <td>22</td>\n",
              "      <td>20</td>\n",
              "      <td>Train/20/00020_00000_00001.png</td>\n",
              "    </tr>\n",
              "    <tr>\n",
              "      <th>2</th>\n",
              "      <td>29</td>\n",
              "      <td>26</td>\n",
              "      <td>6</td>\n",
              "      <td>5</td>\n",
              "      <td>24</td>\n",
              "      <td>21</td>\n",
              "      <td>20</td>\n",
              "      <td>Train/20/00020_00000_00002.png</td>\n",
              "    </tr>\n",
              "    <tr>\n",
              "      <th>3</th>\n",
              "      <td>28</td>\n",
              "      <td>27</td>\n",
              "      <td>5</td>\n",
              "      <td>6</td>\n",
              "      <td>23</td>\n",
              "      <td>22</td>\n",
              "      <td>20</td>\n",
              "      <td>Train/20/00020_00000_00003.png</td>\n",
              "    </tr>\n",
              "    <tr>\n",
              "      <th>4</th>\n",
              "      <td>28</td>\n",
              "      <td>26</td>\n",
              "      <td>5</td>\n",
              "      <td>5</td>\n",
              "      <td>23</td>\n",
              "      <td>21</td>\n",
              "      <td>20</td>\n",
              "      <td>Train/20/00020_00000_00004.png</td>\n",
              "    </tr>\n",
              "  </tbody>\n",
              "</table>\n",
              "</div>"
            ],
            "text/plain": [
              "   Width  Height  Roi.X1  ...  Roi.Y2  ClassId                            Path\n",
              "0     27      26       5  ...      20       20  Train/20/00020_00000_00000.png\n",
              "1     28      27       5  ...      22       20  Train/20/00020_00000_00001.png\n",
              "2     29      26       6  ...      21       20  Train/20/00020_00000_00002.png\n",
              "3     28      27       5  ...      22       20  Train/20/00020_00000_00003.png\n",
              "4     28      26       5  ...      21       20  Train/20/00020_00000_00004.png\n",
              "\n",
              "[5 rows x 8 columns]"
            ]
          },
          "metadata": {
            "tags": []
          },
          "execution_count": 10
        }
      ]
    },
    {
      "cell_type": "markdown",
      "metadata": {
        "id": "k4QiI891V4-X"
      },
      "source": [
        "* As we can see our dataset has 39209 training images and its 8 features.\n",
        "* We will be using only ClassID and Path features, other columns can be ignored."
      ]
    },
    {
      "cell_type": "code",
      "metadata": {
        "colab": {
          "base_uri": "https://localhost:8080/",
          "height": 221
        },
        "id": "iFiAGOw9TXiA",
        "outputId": "860d1be5-cc91-482c-d10e-3a87ece31e03"
      },
      "source": [
        "#Reading Test.csv file\n",
        "\n",
        "test_df = pd.read_csv(\"Test.csv\")\n",
        "print(test_df.shape)\n",
        "test_df.head()"
      ],
      "execution_count": null,
      "outputs": [
        {
          "output_type": "stream",
          "text": [
            "(12630, 8)\n"
          ],
          "name": "stdout"
        },
        {
          "output_type": "execute_result",
          "data": {
            "text/html": [
              "<div>\n",
              "<style scoped>\n",
              "    .dataframe tbody tr th:only-of-type {\n",
              "        vertical-align: middle;\n",
              "    }\n",
              "\n",
              "    .dataframe tbody tr th {\n",
              "        vertical-align: top;\n",
              "    }\n",
              "\n",
              "    .dataframe thead th {\n",
              "        text-align: right;\n",
              "    }\n",
              "</style>\n",
              "<table border=\"1\" class=\"dataframe\">\n",
              "  <thead>\n",
              "    <tr style=\"text-align: right;\">\n",
              "      <th></th>\n",
              "      <th>Width</th>\n",
              "      <th>Height</th>\n",
              "      <th>Roi.X1</th>\n",
              "      <th>Roi.Y1</th>\n",
              "      <th>Roi.X2</th>\n",
              "      <th>Roi.Y2</th>\n",
              "      <th>ClassId</th>\n",
              "      <th>Path</th>\n",
              "    </tr>\n",
              "  </thead>\n",
              "  <tbody>\n",
              "    <tr>\n",
              "      <th>0</th>\n",
              "      <td>53</td>\n",
              "      <td>54</td>\n",
              "      <td>6</td>\n",
              "      <td>5</td>\n",
              "      <td>48</td>\n",
              "      <td>49</td>\n",
              "      <td>16</td>\n",
              "      <td>Test/00000.png</td>\n",
              "    </tr>\n",
              "    <tr>\n",
              "      <th>1</th>\n",
              "      <td>42</td>\n",
              "      <td>45</td>\n",
              "      <td>5</td>\n",
              "      <td>5</td>\n",
              "      <td>36</td>\n",
              "      <td>40</td>\n",
              "      <td>1</td>\n",
              "      <td>Test/00001.png</td>\n",
              "    </tr>\n",
              "    <tr>\n",
              "      <th>2</th>\n",
              "      <td>48</td>\n",
              "      <td>52</td>\n",
              "      <td>6</td>\n",
              "      <td>6</td>\n",
              "      <td>43</td>\n",
              "      <td>47</td>\n",
              "      <td>38</td>\n",
              "      <td>Test/00002.png</td>\n",
              "    </tr>\n",
              "    <tr>\n",
              "      <th>3</th>\n",
              "      <td>27</td>\n",
              "      <td>29</td>\n",
              "      <td>5</td>\n",
              "      <td>5</td>\n",
              "      <td>22</td>\n",
              "      <td>24</td>\n",
              "      <td>33</td>\n",
              "      <td>Test/00003.png</td>\n",
              "    </tr>\n",
              "    <tr>\n",
              "      <th>4</th>\n",
              "      <td>60</td>\n",
              "      <td>57</td>\n",
              "      <td>5</td>\n",
              "      <td>5</td>\n",
              "      <td>55</td>\n",
              "      <td>52</td>\n",
              "      <td>11</td>\n",
              "      <td>Test/00004.png</td>\n",
              "    </tr>\n",
              "  </tbody>\n",
              "</table>\n",
              "</div>"
            ],
            "text/plain": [
              "   Width  Height  Roi.X1  Roi.Y1  Roi.X2  Roi.Y2  ClassId            Path\n",
              "0     53      54       6       5      48      49       16  Test/00000.png\n",
              "1     42      45       5       5      36      40        1  Test/00001.png\n",
              "2     48      52       6       6      43      47       38  Test/00002.png\n",
              "3     27      29       5       5      22      24       33  Test/00003.png\n",
              "4     60      57       5       5      55      52       11  Test/00004.png"
            ]
          },
          "metadata": {
            "tags": []
          },
          "execution_count": 11
        }
      ]
    },
    {
      "cell_type": "markdown",
      "metadata": {
        "id": "W5E9BPwRWUxT"
      },
      "source": [
        "* As we can see our dataset has 12630 testing images and its 8 features.\n",
        "* We will be using only ClassID and Path features, other columns can be ignored."
      ]
    },
    {
      "cell_type": "code",
      "metadata": {
        "colab": {
          "base_uri": "https://localhost:8080/",
          "height": 221
        },
        "id": "-uwdiQFkTeR_",
        "outputId": "cac015d5-d633-40f7-9f0f-dc38ef6ec68a"
      },
      "source": [
        "#Reading signnames.csv file\n",
        "\n",
        "label_df = pd.read_csv(\"signnames.csv\")\n",
        "print(label_df.shape)\n",
        "label_df.head()"
      ],
      "execution_count": null,
      "outputs": [
        {
          "output_type": "stream",
          "text": [
            "(43, 2)\n"
          ],
          "name": "stdout"
        },
        {
          "output_type": "execute_result",
          "data": {
            "text/html": [
              "<div>\n",
              "<style scoped>\n",
              "    .dataframe tbody tr th:only-of-type {\n",
              "        vertical-align: middle;\n",
              "    }\n",
              "\n",
              "    .dataframe tbody tr th {\n",
              "        vertical-align: top;\n",
              "    }\n",
              "\n",
              "    .dataframe thead th {\n",
              "        text-align: right;\n",
              "    }\n",
              "</style>\n",
              "<table border=\"1\" class=\"dataframe\">\n",
              "  <thead>\n",
              "    <tr style=\"text-align: right;\">\n",
              "      <th></th>\n",
              "      <th>ClassId</th>\n",
              "      <th>SignName</th>\n",
              "    </tr>\n",
              "  </thead>\n",
              "  <tbody>\n",
              "    <tr>\n",
              "      <th>0</th>\n",
              "      <td>0</td>\n",
              "      <td>Speed limit (20km/h)</td>\n",
              "    </tr>\n",
              "    <tr>\n",
              "      <th>1</th>\n",
              "      <td>1</td>\n",
              "      <td>Speed limit (30km/h)</td>\n",
              "    </tr>\n",
              "    <tr>\n",
              "      <th>2</th>\n",
              "      <td>2</td>\n",
              "      <td>Speed limit (50km/h)</td>\n",
              "    </tr>\n",
              "    <tr>\n",
              "      <th>3</th>\n",
              "      <td>3</td>\n",
              "      <td>Speed limit (60km/h)</td>\n",
              "    </tr>\n",
              "    <tr>\n",
              "      <th>4</th>\n",
              "      <td>4</td>\n",
              "      <td>Speed limit (70km/h)</td>\n",
              "    </tr>\n",
              "  </tbody>\n",
              "</table>\n",
              "</div>"
            ],
            "text/plain": [
              "   ClassId              SignName\n",
              "0        0  Speed limit (20km/h)\n",
              "1        1  Speed limit (30km/h)\n",
              "2        2  Speed limit (50km/h)\n",
              "3        3  Speed limit (60km/h)\n",
              "4        4  Speed limit (70km/h)"
            ]
          },
          "metadata": {
            "tags": []
          },
          "execution_count": 12
        }
      ]
    },
    {
      "cell_type": "markdown",
      "metadata": {
        "id": "Za4DNT2DWbQy"
      },
      "source": [
        "* SignName column has the traffic sign name w.r.t ClassId.\n",
        "* In this dataframe only unique ClassId's are present which are there in train & test dataframes."
      ]
    },
    {
      "cell_type": "code",
      "metadata": {
        "colab": {
          "base_uri": "https://localhost:8080/",
          "height": 184
        },
        "id": "Wco-VJIggIPX",
        "outputId": "1a161130-a180-490b-a38a-b66f71f875e4"
      },
      "source": [
        "#Here if we look at above few random images from our dataset,\n",
        "#we can see images are in low resolution, and poor contrast."
      ],
      "execution_count": null,
      "outputs": [
        {
          "output_type": "display_data",
          "data": {
            "image/png": "[encoded data removed]",
            "text/plain": [
              "<PIL.Image.Image image mode=RGB size=42x45 at 0x7F03B60F3850>"
            ]
          },
          "metadata": {
            "tags": []
          }
        },
        {
          "output_type": "display_data",
          "data": {
            "image/png": "[encoded data removed]",
            "text/plain": [
              "<PIL.Image.Image image mode=RGB size=34x36 at 0x7F03B608FD10>"
            ]
          },
          "metadata": {
            "tags": []
          }
        },
        {
          "output_type": "display_data",
          "data": {
            "image/png": "[encoded data removed]",
            "text/plain": [
              "<PIL.Image.Image image mode=RGB size=48x52 at 0x7F03B60F3850>"
            ]
          },
          "metadata": {
            "tags": []
          }
        },
        {
          "output_type": "display_data",
          "data": {
            "image/png": "[encoded data removed]",
            "text/plain": [
              "<PIL.Image.Image image mode=RGB size=33x34 at 0x7F03B60F3C90>"
            ]
          },
          "metadata": {
            "tags": []
          }
        }
      ]
    },
    {
      "cell_type": "markdown",
      "metadata": {
        "id": "QuPGOym3hwIu"
      },
      "source": [
        "Also our dataset is highly unbalanced as shown in below image."
      ]
    },
    {
      "cell_type": "markdown",
      "metadata": {
        "id": "n3zLzSiQfAhL"
      },
      "source": [
        "<img src=\"https://pyimagesearch.com/wp-content/uploads/2019/11/traffic_sign_classification_distribution.png\">"
      ]
    },
    {
      "cell_type": "markdown",
      "metadata": {
        "id": "_K81uc9TiACR"
      },
      "source": [
        "* So to solve this problem we have to do some image transformation and augmentation and also need to take care of class skewness."
      ]
    },
    {
      "cell_type": "code",
      "metadata": {
        "id": "2E4_Vda2KrIS"
      },
      "source": [
        "def prepare_data(root_dir, df):\n",
        "  '''\n",
        "  This function accepts the root directory path of dataset and\n",
        "  dataframe containing path and class for train and test set\n",
        "  and returns transformed images and their labels.\n",
        "  '''\n",
        "\tdata, labels = [], []\n",
        "  #Shuffling the dataframe so that same class label won't be in a same order\n",
        "\tdf = df.sample(frac=1)\n",
        "    \n",
        "\tfor i in range(df.shape[0]):\n",
        "\t\t#Picking label and image path from each row\n",
        "\t\t(label, path) = (df['ClassId'].values[i], df['Path'].values[i])\n",
        "\t\t#Deriving the full path to the image file and loading it for further processing\n",
        "\t\timage = io.imread(os.path.sep.join([root_dir, path]))\n",
        "\t\t#Resizing the image to be 32x32 pixels and then performing Contrast Limited Adaptive Histogram Equalization (CLAHE)\n",
        "\t\timage = transform.resize(image, (32, 32))\n",
        "\t\timage = exposure.equalize_adapthist(image, clip_limit=0.1)\n",
        "\t\t#Updating the list of data and labels, respectively\n",
        "\t\tdata.append(image)\n",
        "\t\tlabels.append(int(label))\n",
        "  \n",
        "\t#Converting the data and labels list to NumPy arrays\n",
        "\tdata = np.array(data)\n",
        "\tlabels = np.array(labels)\n",
        "\n",
        "\treturn (data, labels)"
      ],
      "execution_count": null,
      "outputs": []
    },
    {
      "cell_type": "code",
      "metadata": {
        "id": "gxTUxqDkK88_"
      },
      "source": [
        "#Preparing train and test data\n",
        "\n",
        "#Root directory containig all train and test data\n",
        "root_dir = \"gtsrb-german-traffic-sign/\"\n",
        "\n",
        "#Preparing the train and test data\n",
        "(x_train, y_train) = prepare_data(root_dir, train_df)\n",
        "(x_test, y_test) = prepare_data(root_dir, test_df)\n",
        "\n",
        "#Scaling the data in the range of [0, 1]\n",
        "x_train = x_train.astype(\"float32\") / 255.0\n",
        "x_test = x_test.astype(\"float32\") / 255.0\n",
        "\n",
        "#Doing one-hot encoding on class labels\n",
        "num_unique_labels = len(np.unique(y_train))\n",
        "y_train = to_categorical(y_train, num_unique_labels)\n",
        "y_test = to_categorical(y_test, num_unique_labels)\n",
        "\n",
        "#Loading the label names\n",
        "label_names = list(label_df['SignName'].values)"
      ],
      "execution_count": null,
      "outputs": []
    },
    {
      "cell_type": "markdown",
      "metadata": {
        "id": "qsqAoPLSXL7Q"
      },
      "source": [
        "### 3. Model Architecture"
      ]
    },
    {
      "cell_type": "code",
      "metadata": {
        "colab": {
          "base_uri": "https://localhost:8080/"
        },
        "id": "ZNd3D1mlXTg5",
        "outputId": "2de8996f-0642-4001-c4b1-411a4eb08a02"
      },
      "source": [
        "#Initializing the sequential model\n",
        "model = Sequential()\n",
        "#(Conv2D => relu => BatchNormalization => MaxPooling2D),\n",
        "#these set of layers with a 5×5 kernel will be used learn larger features.\n",
        "#It will help to distinguish between different traffic sign shapes and color blobs on the traffic signs themselves.\n",
        "model.add(Conv2D(8, (5, 5), padding=\"same\", input_shape=(32, 32, 3)))\n",
        "model.add(Activation(\"relu\"))\n",
        "model.add(BatchNormalization(axis=-1))\n",
        "model.add(MaxPooling2D(pool_size=(2, 2)))\n",
        "\n",
        "#We will use 2 more sets of these layers twice  \n",
        "#1st set of (Conv2D => relu => BatchNormalization) * 2 => MaxPooling2D\n",
        "model.add(Conv2D(16, (3, 3), padding=\"same\"))\n",
        "model.add(Activation(\"relu\"))\n",
        "model.add(BatchNormalization(axis=-1))\n",
        "model.add(Conv2D(16, (3, 3), padding=\"same\"))\n",
        "model.add(Activation(\"relu\"))\n",
        "model.add(BatchNormalization(axis=-1))\n",
        "model.add(MaxPooling2D(pool_size=(2, 2)))\n",
        "#2nd set of (Conv2D => relu => BatchNormalization) * 2 => MaxPooling2D\n",
        "model.add(Conv2D(32, (3, 3), padding=\"same\"))\n",
        "model.add(Activation(\"relu\"))\n",
        "model.add(BatchNormalization(axis=-1))\n",
        "model.add(Conv2D(32, (3, 3), padding=\"same\"))\n",
        "model.add(Activation(\"relu\"))\n",
        "model.add(BatchNormalization(axis=-1))\n",
        "model.add(MaxPooling2D(pool_size=(2, 2)))\n",
        "\n",
        "#We will use 2 sets of Fully-Connected layers as follows\n",
        "#1st set of Fully-Connected layers with relu activation => BatchNormalization => Dropout\n",
        "model.add(Flatten())\n",
        "model.add(Dense(128))\n",
        "model.add(Activation(\"relu\"))\n",
        "model.add(BatchNormalization())\n",
        "model.add(Dropout(0.5))\n",
        "#2nd set of Fully-Connected layers with relu activation => BatchNormalization => Dropout\n",
        "model.add(Flatten())\n",
        "model.add(Dense(128))\n",
        "model.add(Activation(\"relu\"))\n",
        "model.add(BatchNormalization())\n",
        "model.add(Dropout(0.5))\n",
        "\t\t\n",
        "#Softmax classifier\n",
        "model.add(Dense(num_unique_labels))\n",
        "model.add(Activation(\"softmax\"))\n",
        "\n",
        "#Summary of model\n",
        "model.summary()"
      ],
      "execution_count": null,
      "outputs": [
        {
          "output_type": "stream",
          "text": [
            "Model: \"sequential_1\"\n",
            "_________________________________________________________________\n",
            "Layer (type)                 Output Shape              Param #   \n",
            "=================================================================\n",
            "conv2d_5 (Conv2D)            (None, 32, 32, 8)         608       \n",
            "_________________________________________________________________\n",
            "activation_7 (Activation)    (None, 32, 32, 8)         0         \n",
            "_________________________________________________________________\n",
            "batch_normalization_7 (Batch (None, 32, 32, 8)         32        \n",
            "_________________________________________________________________\n",
            "max_pooling2d_3 (MaxPooling2 (None, 16, 16, 8)         0         \n",
            "_________________________________________________________________\n",
            "conv2d_6 (Conv2D)            (None, 16, 16, 16)        1168      \n",
            "_________________________________________________________________\n",
            "activation_8 (Activation)    (None, 16, 16, 16)        0         \n",
            "_________________________________________________________________\n",
            "batch_normalization_8 (Batch (None, 16, 16, 16)        64        \n",
            "_________________________________________________________________\n",
            "conv2d_7 (Conv2D)            (None, 16, 16, 16)        2320      \n",
            "_________________________________________________________________\n",
            "activation_9 (Activation)    (None, 16, 16, 16)        0         \n",
            "_________________________________________________________________\n",
            "batch_normalization_9 (Batch (None, 16, 16, 16)        64        \n",
            "_________________________________________________________________\n",
            "max_pooling2d_4 (MaxPooling2 (None, 8, 8, 16)          0         \n",
            "_________________________________________________________________\n",
            "conv2d_8 (Conv2D)            (None, 8, 8, 32)          4640      \n",
            "_________________________________________________________________\n",
            "activation_10 (Activation)   (None, 8, 8, 32)          0         \n",
            "_________________________________________________________________\n",
            "batch_normalization_10 (Batc (None, 8, 8, 32)          128       \n",
            "_________________________________________________________________\n",
            "conv2d_9 (Conv2D)            (None, 8, 8, 32)          9248      \n",
            "_________________________________________________________________\n",
            "activation_11 (Activation)   (None, 8, 8, 32)          0         \n",
            "_________________________________________________________________\n",
            "batch_normalization_11 (Batc (None, 8, 8, 32)          128       \n",
            "_________________________________________________________________\n",
            "max_pooling2d_5 (MaxPooling2 (None, 4, 4, 32)          0         \n",
            "_________________________________________________________________\n",
            "flatten_2 (Flatten)          (None, 512)               0         \n",
            "_________________________________________________________________\n",
            "dense_2 (Dense)              (None, 128)               65664     \n",
            "_________________________________________________________________\n",
            "activation_12 (Activation)   (None, 128)               0         \n",
            "_________________________________________________________________\n",
            "batch_normalization_12 (Batc (None, 128)               512       \n",
            "_________________________________________________________________\n",
            "dropout_2 (Dropout)          (None, 128)               0         \n",
            "_________________________________________________________________\n",
            "flatten_3 (Flatten)          (None, 128)               0         \n",
            "_________________________________________________________________\n",
            "dense_3 (Dense)              (None, 128)               16512     \n",
            "_________________________________________________________________\n",
            "activation_13 (Activation)   (None, 128)               0         \n",
            "_________________________________________________________________\n",
            "batch_normalization_13 (Batc (None, 128)               512       \n",
            "_________________________________________________________________\n",
            "dropout_3 (Dropout)          (None, 128)               0         \n",
            "_________________________________________________________________\n",
            "dense_4 (Dense)              (None, 43)                5547      \n",
            "_________________________________________________________________\n",
            "activation_14 (Activation)   (None, 43)                0         \n",
            "=================================================================\n",
            "Total params: 107,147\n",
            "Trainable params: 106,427\n",
            "Non-trainable params: 720\n",
            "_________________________________________________________________\n"
          ],
          "name": "stdout"
        }
      ]
    },
    {
      "cell_type": "markdown",
      "metadata": {
        "id": "BPFatbuQcYSC"
      },
      "source": [
        "### 4. Training the model"
      ]
    },
    {
      "cell_type": "code",
      "metadata": {
        "colab": {
          "base_uri": "https://localhost:8080/"
        },
        "id": "WEdLKgiYcF8l",
        "outputId": "1a9c6958-0360-4f59-e0a5-78e497a633e9"
      },
      "source": [
        "#Initializing the number of epochs to train for, learning rate, and batch size.\n",
        "n_epochs = 30\n",
        "learning_rate = 1e-3\n",
        "batch_size = 64\n",
        "\n",
        "#Constructing the image generator for data augmentation\n",
        "aug = ImageDataGenerator(rotation_range=10, zoom_range=0.15, width_shift_range=0.1,\n",
        "                         height_shift_range=0.1, shear_range=0.15, horizontal_flip=False,\n",
        "                         vertical_flip=False, fill_mode=\"nearest\")\n",
        "\n",
        "#Compiling the model\n",
        "model.compile(loss=\"categorical_crossentropy\",\n",
        "              optimizer=Adam(lr=learning_rate, decay=learning_rate / (n_epochs * 0.5)),\n",
        "              metrics=[\"accuracy\"])\n",
        "\n",
        "#Fitting the model\n",
        "history = model.fit(aug.flow(x_train, y_train, batch_size=batch_size), validation_data=(x_test, y_test),\n",
        "              steps_per_epoch=x_train.shape[0] // batch_size, epochs=n_epochs, verbose=2)"
      ],
      "execution_count": null,
      "outputs": [
        {
          "output_type": "stream",
          "text": [
            "Epoch 1/30\n",
            "612/612 - 26s - loss: 2.7128 - accuracy: 0.2868 - val_loss: 2.5674 - val_accuracy: 0.2832\n",
            "Epoch 2/30\n",
            "612/612 - 22s - loss: 1.4345 - accuracy: 0.5474 - val_loss: 0.7434 - val_accuracy: 0.7673\n",
            "Epoch 3/30\n",
            "612/612 - 21s - loss: 0.9822 - accuracy: 0.6885 - val_loss: 0.7190 - val_accuracy: 0.7793\n",
            "Epoch 4/30\n",
            "612/612 - 22s - loss: 0.7270 - accuracy: 0.7670 - val_loss: 0.4587 - val_accuracy: 0.8609\n",
            "Epoch 5/30\n",
            "612/612 - 22s - loss: 0.5722 - accuracy: 0.8161 - val_loss: 0.3534 - val_accuracy: 0.8903\n",
            "Epoch 6/30\n",
            "612/612 - 21s - loss: 0.4750 - accuracy: 0.8493 - val_loss: 0.4474 - val_accuracy: 0.8564\n",
            "Epoch 7/30\n",
            "612/612 - 22s - loss: 0.4114 - accuracy: 0.8670 - val_loss: 0.3421 - val_accuracy: 0.8945\n",
            "Epoch 8/30\n",
            "612/612 - 22s - loss: 0.3669 - accuracy: 0.8834 - val_loss: 0.3053 - val_accuracy: 0.9059\n",
            "Epoch 9/30\n",
            "612/612 - 22s - loss: 0.3264 - accuracy: 0.8957 - val_loss: 0.2698 - val_accuracy: 0.9196\n",
            "Epoch 10/30\n",
            "612/612 - 21s - loss: 0.3012 - accuracy: 0.9040 - val_loss: 0.3164 - val_accuracy: 0.9020\n",
            "Epoch 11/30\n",
            "612/612 - 22s - loss: 0.2744 - accuracy: 0.9125 - val_loss: 0.3699 - val_accuracy: 0.8902\n",
            "Epoch 12/30\n",
            "612/612 - 22s - loss: 0.2602 - accuracy: 0.9174 - val_loss: 0.3365 - val_accuracy: 0.9048\n",
            "Epoch 13/30\n",
            "612/612 - 21s - loss: 0.2491 - accuracy: 0.9215 - val_loss: 0.5584 - val_accuracy: 0.8424\n",
            "Epoch 14/30\n",
            "612/612 - 21s - loss: 0.2307 - accuracy: 0.9275 - val_loss: 0.2250 - val_accuracy: 0.9331\n",
            "Epoch 15/30\n",
            "612/612 - 22s - loss: 0.2278 - accuracy: 0.9296 - val_loss: 0.2645 - val_accuracy: 0.9250\n",
            "Epoch 16/30\n",
            "612/612 - 21s - loss: 0.2107 - accuracy: 0.9346 - val_loss: 0.3373 - val_accuracy: 0.9037\n",
            "Epoch 17/30\n",
            "612/612 - 22s - loss: 0.1913 - accuracy: 0.9394 - val_loss: 0.3218 - val_accuracy: 0.9087\n",
            "Epoch 18/30\n",
            "612/612 - 22s - loss: 0.1895 - accuracy: 0.9414 - val_loss: 0.2224 - val_accuracy: 0.9365\n",
            "Epoch 19/30\n",
            "612/612 - 22s - loss: 0.1843 - accuracy: 0.9420 - val_loss: 0.2880 - val_accuracy: 0.9154\n",
            "Epoch 20/30\n",
            "612/612 - 21s - loss: 0.1738 - accuracy: 0.9456 - val_loss: 0.2010 - val_accuracy: 0.9399\n",
            "Epoch 21/30\n",
            "612/612 - 20s - loss: 0.1719 - accuracy: 0.9452 - val_loss: 0.2631 - val_accuracy: 0.9223\n",
            "Epoch 22/30\n",
            "612/612 - 20s - loss: 0.1609 - accuracy: 0.9486 - val_loss: 0.1682 - val_accuracy: 0.9486\n",
            "Epoch 23/30\n",
            "612/612 - 20s - loss: 0.1572 - accuracy: 0.9512 - val_loss: 0.2627 - val_accuracy: 0.9227\n",
            "Epoch 24/30\n",
            "612/612 - 20s - loss: 0.1520 - accuracy: 0.9530 - val_loss: 0.2153 - val_accuracy: 0.9344\n",
            "Epoch 25/30\n",
            "612/612 - 21s - loss: 0.1500 - accuracy: 0.9537 - val_loss: 0.2362 - val_accuracy: 0.9340\n",
            "Epoch 26/30\n",
            "612/612 - 22s - loss: 0.1477 - accuracy: 0.9524 - val_loss: 0.2185 - val_accuracy: 0.9366\n",
            "Epoch 27/30\n",
            "612/612 - 22s - loss: 0.1407 - accuracy: 0.9568 - val_loss: 0.2504 - val_accuracy: 0.9288\n",
            "Epoch 28/30\n",
            "612/612 - 22s - loss: 0.1363 - accuracy: 0.9585 - val_loss: 9.1044 - val_accuracy: 0.1136\n",
            "Epoch 29/30\n",
            "612/612 - 22s - loss: 0.1339 - accuracy: 0.9574 - val_loss: 1.2903 - val_accuracy: 0.7017\n",
            "Epoch 30/30\n",
            "612/612 - 22s - loss: 0.1307 - accuracy: 0.9586 - val_loss: 0.2426 - val_accuracy: 0.9317\n"
          ],
          "name": "stdout"
        }
      ]
    },
    {
      "cell_type": "markdown",
      "metadata": {
        "id": "019_5Aiec6gs"
      },
      "source": [
        "* As we can see we have achieved 95.86% of train and 93.17% of validation accuracy which is quite a good accuracy.\n",
        "* Also there is not much difference between train accuracy/loss and validation accuracy/loss, that means our model is neither overfitting nor underfitting."
      ]
    },
    {
      "cell_type": "markdown",
      "metadata": {
        "id": "VWgw3kWvceLJ"
      },
      "source": [
        "### 5. Evaluating the model"
      ]
    },
    {
      "cell_type": "code",
      "metadata": {
        "trusted": true,
        "id": "JxZCdebd2mWS",
        "outputId": "e244ab82-e7fc-4b14-a70b-f7f650c5cee7"
      },
      "source": [
        "#Evaluating the model\n",
        "\n",
        "#Doing prediction on test set\n",
        "pred = model.predict(x_test, batch_size=batch_size)\n",
        "\n",
        "#Printing the classification report for test set\n",
        "print(classification_report(y_test.argmax(axis=1), pred.argmax(axis=1), target_names=label_names))"
      ],
      "execution_count": null,
      "outputs": [
        {
          "output_type": "stream",
          "text": [
            "                                                    precision    recall  f1-score   support\n",
            "\n",
            "                              Speed limit (20km/h)       0.79      0.87      0.83        60\n",
            "                              Speed limit (30km/h)       0.91      0.98      0.94       720\n",
            "                              Speed limit (50km/h)       0.85      1.00      0.92       750\n",
            "                              Speed limit (60km/h)       0.96      0.89      0.92       450\n",
            "                              Speed limit (70km/h)       0.99      0.93      0.96       660\n",
            "                              Speed limit (80km/h)       0.88      0.89      0.88       630\n",
            "                       End of speed limit (80km/h)       0.92      0.87      0.89       150\n",
            "                             Speed limit (100km/h)       0.93      0.96      0.95       450\n",
            "                             Speed limit (120km/h)       0.96      0.93      0.94       450\n",
            "                                        No passing       0.99      0.95      0.97       480\n",
            "      No passing for vehicles over 3.5 metric tons       0.99      0.97      0.98       660\n",
            "             Right-of-way at the next intersection       0.88      0.94      0.91       420\n",
            "                                     Priority road       0.99      0.97      0.98       690\n",
            "                                             Yield       1.00      0.99      1.00       720\n",
            "                                              Stop       0.97      1.00      0.98       270\n",
            "                                       No vehicles       0.98      0.81      0.89       210\n",
            "          Vehicles over 3.5 metric tons prohibited       1.00      0.99      1.00       150\n",
            "                                          No entry       1.00      0.96      0.98       360\n",
            "                                   General caution       0.97      0.72      0.82       390\n",
            "                       Dangerous curve to the left       0.95      0.62      0.75        60\n",
            "                      Dangerous curve to the right       0.94      0.86      0.90        90\n",
            "                                      Double curve       0.64      0.60      0.62        90\n",
            "                                        Bumpy road       0.98      0.80      0.88       120\n",
            "                                     Slippery road       0.79      0.89      0.84       150\n",
            "                         Road narrows on the right       0.74      0.89      0.81        90\n",
            "                                         Road work       0.94      0.99      0.96       480\n",
            "                                   Traffic signals       0.88      0.90      0.89       180\n",
            "                                       Pedestrians       0.61      0.58      0.60        60\n",
            "                                 Children crossing       0.82      0.91      0.86       150\n",
            "                                 Bicycles crossing       0.54      0.98      0.70        90\n",
            "                                Beware of ice/snow       0.89      0.60      0.72       150\n",
            "                             Wild animals crossing       0.96      0.99      0.98       270\n",
            "               End of all speed and passing limits       0.98      0.83      0.90        60\n",
            "                                  Turn right ahead       1.00      0.99      0.99       210\n",
            "                                   Turn left ahead       0.97      1.00      0.98       120\n",
            "                                        Ahead only       1.00      0.93      0.96       390\n",
            "                              Go straight or right       0.97      0.97      0.97       120\n",
            "                               Go straight or left       0.87      0.98      0.92        60\n",
            "                                        Keep right       0.99      0.96      0.97       690\n",
            "                                         Keep left       1.00      0.94      0.97        90\n",
            "                              Roundabout mandatory       0.60      0.97      0.74        90\n",
            "                                 End of no passing       1.00      0.85      0.92        60\n",
            "End of no passing by vehicles over 3.5 metric tons       0.96      0.83      0.89        90\n",
            "\n",
            "                                          accuracy                           0.93     12630\n",
            "                                         macro avg       0.91      0.90      0.89     12630\n",
            "                                      weighted avg       0.94      0.93      0.93     12630\n",
            "\n"
          ],
          "name": "stdout"
        }
      ]
    },
    {
      "cell_type": "markdown",
      "metadata": {
        "id": "Kl-aWNYBiV8n"
      },
      "source": [
        "* As we can see, for most of the classes we are getting very high precision and recall.\n",
        "* But in some cases getting low but not too bad precision and recall, this is because of less training samples in that particular class."
      ]
    },
    {
      "cell_type": "markdown",
      "metadata": {
        "id": "9MVRCABTkfDY"
      },
      "source": [
        "### 6. Plotting the loss & accuracy of the model"
      ]
    },
    {
      "cell_type": "code",
      "metadata": {
        "colab": {
          "base_uri": "https://localhost:8080/",
          "height": 295
        },
        "id": "VW33ad5ri3Mv",
        "outputId": "d47ece61-251f-465c-8b1b-f794796b2691"
      },
      "source": [
        "#Plotting the train and validation loss\n",
        "N = np.arange(0, 30)\n",
        "plt.plot(N, loss, label=\"train_loss\")\n",
        "plt.plot(N, val_loss, label=\"val_loss\")\n",
        "plt.title(\"Train & Validation Loss\")\n",
        "plt.xlabel(\"Epochs\")\n",
        "plt.ylabel(\"Loss\")\n",
        "plt.legend()\n",
        "plt.grid()\n",
        "plt.show()"
      ],
      "execution_count": null,
      "outputs": [
        {
          "output_type": "display_data",
          "data": {
            "image/png": "[encoded data removed]",
            "text/plain": [
              "<Figure size 432x288 with 1 Axes>"
            ]
          },
          "metadata": {
            "tags": [],
            "needs_background": "light"
          }
        }
      ]
    },
    {
      "cell_type": "code",
      "metadata": {
        "colab": {
          "base_uri": "https://localhost:8080/",
          "height": 295
        },
        "id": "dFHtaonIj96G",
        "outputId": "1f3b11f0-4e7a-4c82-b256-f4e8fce38c72"
      },
      "source": [
        "#Plotting the train and validation accuracy\n",
        "N = np.arange(0, 30)\n",
        "plt.plot(N, acc, label=\"train_accuracy\")\n",
        "plt.plot(N, val_acc, label=\"val_accuracy\")\n",
        "plt.title(\"Train & Validation Accuracy\")\n",
        "plt.xlabel(\"Epochs\")\n",
        "plt.ylabel(\"Accuracy\")\n",
        "plt.legend()\n",
        "plt.grid()\n",
        "plt.show()"
      ],
      "execution_count": null,
      "outputs": [
        {
          "output_type": "display_data",
          "data": {
            "image/png": "[encoded data removed]",
            "text/plain": [
              "<Figure size 432x288 with 1 Axes>"
            ]
          },
          "metadata": {
            "tags": [],
            "needs_background": "light"
          }
        }
      ]
    },
    {
      "cell_type": "markdown",
      "metadata": {
        "id": "jjzYR6SPkrBk"
      },
      "source": [
        "### 7. Saving the model"
      ]
    },
    {
      "cell_type": "code",
      "metadata": {
        "trusted": true,
        "id": "AcGJX6Bv2mWa"
      },
      "source": [
        "#Saving the model\n",
        "model.save('saved_model.hdf5')"
      ],
      "execution_count": null,
      "outputs": []
    },
    {
      "cell_type": "markdown",
      "metadata": {
        "id": "iKH37MDbkxWZ"
      },
      "source": [
        "### 8. Testing the model on unseen test data"
      ]
    },
    {
      "cell_type": "code",
      "metadata": {
        "id": "LSgNH7YylqgB"
      },
      "source": [
        "#Loadig the model\n",
        "model = load_model(\"saved_model.hdf5\")\n",
        "\n",
        "#Loading the label names\n",
        "label_names = list(pd.read_csv('signnames.csv')['SignName'].values)"
      ],
      "execution_count": null,
      "outputs": []
    },
    {
      "cell_type": "code",
      "metadata": {
        "id": "3K5LoRHFlt2J"
      },
      "source": [
        "def recognize_traffic_sign(path):\n",
        "  '''\n",
        "  This function accepts the image path and\n",
        "  returns recognized traffic sign from that image.\n",
        "  '''\n",
        "  #Loading the image\n",
        "  image = io.imread(path)\n",
        "  #Resizing the image  to 32x32 pixels\n",
        "  image = transform.resize(image, (32, 32))\n",
        "  #Applying Contrast Limited Adaptive Histogram Equalization (CLAHE)\n",
        "  image = exposure.equalize_adapthist(image, clip_limit=0.1)\n",
        "\t#Preprocessing the image by scaling it to the range [0, 1]\n",
        "  image = image.astype(\"float32\") / 255.0\n",
        "  image = np.expand_dims(image, axis=0)\n",
        "\t#Doing predictions using the trained traffic sign recognizer model\n",
        "  preds = model.predict(image)\n",
        "  j = preds.argmax(axis=1)[0]\n",
        "  label = label_names[j]\n",
        "\n",
        "\t#Load the image using OpenCV, resize it, and draw the label on it\n",
        "  image = cv2.imread(path)\n",
        "  image = imutils.resize(image, width=128)\n",
        "  cv2.putText(image, label, (5, 25), cv2.FONT_HERSHEY_SIMPLEX, 0.35, (0, 0, 255), 1)\n",
        "  cv2_imshow(image)\n",
        "  print('Preicted/Recognized traffic sign:',label)"
      ],
      "execution_count": null,
      "outputs": []
    },
    {
      "cell_type": "code",
      "metadata": {
        "trusted": true,
        "colab": {
          "base_uri": "https://localhost:8080/",
          "height": 844
        },
        "id": "6kjqfuKv2mWa",
        "outputId": "9f9ebb70-2bcc-40b7-ea67-219bdf81d2c8"
      },
      "source": [
        "for i in np.array(os.listdir('Test'))[[2,5,7,25,37]]:\n",
        "  recognize_traffic_sign('Test/'+i)\n",
        "  print('-'*50)"
      ],
      "execution_count": null,
      "outputs": [
        {
          "output_type": "display_data",
          "data": {
            "image/png": "[encoded data removed]",
            "text/plain": [
              "<PIL.Image.Image image mode=RGB size=128x130 at 0x7F03AFCD0FD0>"
            ]
          },
          "metadata": {
            "tags": []
          }
        },
        {
          "output_type": "stream",
          "text": [
            "Preicted/Recognized traffic sign: Vehicles over 3.5 metric tons prohibited\n",
            "--------------------------------------------------\n"
          ],
          "name": "stdout"
        },
        {
          "output_type": "display_data",
          "data": {
            "image/png": "[encoded data removed]",
            "text/plain": [
              "<PIL.Image.Image image mode=RGB size=128x137 at 0x7F03AFD8C990>"
            ]
          },
          "metadata": {
            "tags": []
          }
        },
        {
          "output_type": "stream",
          "text": [
            "Preicted/Recognized traffic sign: Speed limit (30km/h)\n",
            "--------------------------------------------------\n"
          ],
          "name": "stdout"
        },
        {
          "output_type": "display_data",
          "data": {
            "image/png": "[encoded data removed]",
            "text/plain": [
              "<PIL.Image.Image image mode=RGB size=128x138 at 0x7F03AFD83690>"
            ]
          },
          "metadata": {
            "tags": []
          }
        },
        {
          "output_type": "stream",
          "text": [
            "Preicted/Recognized traffic sign: Keep right\n",
            "--------------------------------------------------\n"
          ],
          "name": "stdout"
        },
        {
          "output_type": "display_data",
          "data": {
            "image/png": "[encoded data removed]",
            "text/plain": [
              "<PIL.Image.Image image mode=RGB size=128x128 at 0x7F03AFCC3D10>"
            ]
          },
          "metadata": {
            "tags": []
          }
        },
        {
          "output_type": "stream",
          "text": [
            "Preicted/Recognized traffic sign: No passing\n",
            "--------------------------------------------------\n"
          ],
          "name": "stdout"
        },
        {
          "output_type": "display_data",
          "data": {
            "image/png": "[encoded data removed]",
            "text/plain": [
              "<PIL.Image.Image image mode=RGB size=128x124 at 0x7F03AFD1ECD0>"
            ]
          },
          "metadata": {
            "tags": []
          }
        },
        {
          "output_type": "stream",
          "text": [
            "Preicted/Recognized traffic sign: Speed limit (120km/h)\n",
            "--------------------------------------------------\n"
          ],
          "name": "stdout"
        }
      ]
    },
    {
      "cell_type": "markdown",
      "metadata": {
        "id": "xITJnhTsadR1"
      },
      "source": [
        "* As we can observe, our model is doing pretty good recognition of traffic signs.\n",
        "* Even for highly blurred and noisy images it is giving very much accurate predictions."
      ]
    },
    {
      "cell_type": "markdown",
      "metadata": {
        "id": "LvhNz9S9qESI"
      },
      "source": [
        "### 9. Conclusion"
      ]
    },
    {
      "cell_type": "markdown",
      "metadata": {
        "id": "GbHmg19_bCZq"
      },
      "source": [
        "* For this task, I've collected data from kaggle datasets.\n",
        "* We've build our own model architecture to solve this problem and we are able to achieve more than 95% of train and 93% of test accuracy.\n",
        "* Even our model has high precision, recall and harmonic mean for most of the classes. In some case its near 60% due to imbalanced and less data.\n",
        "* Our model is able to predict/recognize traffic sign from unseen highly blurred and noisy images.\n",
        "* Now we can say, we have successfully built a model for traffic sign classification/recognition."
      ]
    },
    {
      "cell_type": "code",
      "metadata": {
        "id": "QNV7KPDGpKQh"
      },
      "source": [
        ""
      ],
      "execution_count": null,
      "outputs": []
    }
  ]
}